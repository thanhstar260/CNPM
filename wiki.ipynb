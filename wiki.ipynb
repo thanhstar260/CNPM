{
 "cells": [
  {
   "cell_type": "markdown",
   "id": "bb1051f3",
   "metadata": {},
   "source": [
    "# Tính năng của web boardgame\n",
    "\n",
    "![alt text](./Img/home.jpg)\n",
    "\n",
    "**1. Đăng nhập:**\n",
    "> Khách hàng nhập tk,mk để đăng nhập\n",
    ">![alt text](./Img/log_in.png)\n",
    "\n",
    "**2. Thêm vào giỏ hàng:**\n",
    "> Khách hàng bấm vào chữ \"thêm vào giỏ hàng\" dưới sản phẩm để thêm\n",
    ">![alt text](./Img/them_gio_hang.png)\n",
    "\n",
    "**3. Xem nhanh:**\n",
    "> KH bấm vào \"Xem nhanh\" ở ô sản phẩm khi trỏ chuột vào để thấy chi tiết sản phẩm gồm tên sản phẩm, số tiền, thông tin mô tả, hình ảnh chi tiết về sp.\n",
    ">![alt text](./Img/xem_nhanh.png)\n",
    ">![alt text](./Img/xem_nhanh1.png)\n",
    "\n",
    "**4. Sắp xếp các sản phẩm theo thứ tự:**\n",
    "> KH chọn kiểu sắp xếp :\n",
    "> * Mặc định: random\n",
    "> * Độ phổ biến: Nhiều người thuê nhất cao nhất $\\rightarrow$ thấp nhất\n",
    "> * Đánh giá: Được đánh giá cao nhất $\\rightarrow$ thấp nhất\n",
    "> * Mới nhất: theo thời gian phát hành\n",
    "> * Giá: từ cao $\\rightarrow$ thấp or từ thấp $\\rightarrow$ cao\n",
    ">![alt text](./Img/sap_xep.png)\n",
    "\n",
    "\n",
    "**5. Lọc các sản phẩm theo giá:**\n",
    "> Chọn mức giá để hiện thị các sản phẩm có giá $\\leq$ mức giá đã chọn\n",
    ">![alt text](./Img/loc.png)\n",
    "\n",
    "**6. Tìm kiếm theo tên boardgame**\n",
    ">![alt text](./Img/search.png)\n",
    "\n",
    "**7. Xem giỏ hàng:**\n",
    "> Xem các sản phẩm đã thêm vào,và chọn đặt trước\n",
    ">![alt text](./Img/gio_hang.png)\n",
    "\n",
    "**8. Sản phẩm đang giảm giá**\n",
    ">![alt text](./Img/giam_gia.png)\n",
    "\n",
    "**9. Thêm sản phẩm vào mục yêu thích**\n",
    ">![alt text](./Img/yeu_thich.png)\n",
    "\n",
    "**10. Thông tin sản phẩm**\n",
    "> Hiển thị thông tin sản phẩm khi click chuột vào sản phẩm đã chọn\n",
    ">![alt text](./Img/thong_tin.jpg)"
   ]
  },
  {
   "cell_type": "code",
   "execution_count": null,
   "id": "a1cfa77e",
   "metadata": {
    "collapsed": true
   },
   "outputs": [],
   "source": []
  }
 ],
 "metadata": {
  "kernelspec": {
   "display_name": "Python 3 (ipykernel)",
   "language": "python",
   "name": "python3"
  },
  "language_info": {
   "codemirror_mode": {
    "name": "ipython",
    "version": 3
   },
   "file_extension": ".py",
   "mimetype": "text/x-python",
   "name": "python",
   "nbconvert_exporter": "python",
   "pygments_lexer": "ipython3",
   "version": "3.10.10"
  }
 },
 "nbformat": 4,
 "nbformat_minor": 5
}
